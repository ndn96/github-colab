{
  "nbformat": 4,
  "nbformat_minor": 0,
  "metadata": {
    "colab": {
      "name": "Bai03-NNLT-Python-16092021.ipynb",
      "provenance": [],
      "authorship_tag": "ABX9TyN3qtI24wSdz+8t1sHsX/fc",
      "include_colab_link": true
    },
    "kernelspec": {
      "name": "python3",
      "display_name": "Python 3"
    },
    "language_info": {
      "name": "python"
    }
  },
  "cells": [
    {
      "cell_type": "markdown",
      "metadata": {
        "id": "view-in-github",
        "colab_type": "text"
      },
      "source": [
        "<a href=\"https://colab.research.google.com/github/ndn96/github-colab/blob/main/Bai03_NNLT_Python_16092021.ipynb\" target=\"_parent\"><img src=\"https://colab.research.google.com/assets/colab-badge.svg\" alt=\"Open In Colab\"/></a>"
      ]
    },
    {
      "cell_type": "code",
      "metadata": {
        "colab": {
          "base_uri": "https://localhost:8080/"
        },
        "id": "X9BWNiwCag8C",
        "outputId": "3ac805b1-a09b-494c-8ab2-dc0288632bfe"
      },
      "source": [
        "# E1: Tính toán monthlyPayment:\n",
        "# Nhập vào loanAmount:\n",
        "loanAmount = float(input(\"Nhập vào loanAmount: \"))\n",
        "# Nhập vào monthlyInterestRate:\n",
        "monthlyInterestRate = float(input(\"Nhập vào monthlyInterestRate: \"))\n",
        "# Nhập vào numberOfYears\n",
        "numberOfYears = float(input(\"Nhập vào numberOfYears: \"))\n",
        "# Tính toán monthlyPayment:\n",
        "monthlyPayment = (loanAmount*monthlyInterestRate)/(1-1/(pow(1+monthlyInterestRate,numberOfYears*12)))\n",
        "# In ra kết quả monthlyPayment:\n",
        "print(f'Kết quả monthlyPayment là: {monthlyPayment}')"
      ],
      "execution_count": 10,
      "outputs": [
        {
          "output_type": "stream",
          "name": "stdout",
          "text": [
            "Nhập vào loanAmount: 1\n",
            "Nhập vào monthlyInterestRate: 2\n",
            "Nhập vào numberOfYears: 3\n",
            "Kết quả monthlyPayment là: 2.0\n"
          ]
        }
      ]
    },
    {
      "cell_type": "code",
      "metadata": {
        "colab": {
          "base_uri": "https://localhost:8080/"
        },
        "id": "dEViX8y4Xelk",
        "outputId": "ed0263d7-5e73-40c7-e394-d263fad0fe5f"
      },
      "source": [
        "import math\n",
        "#E2: Cho 2 điểm A,B.Lập chương trình tính toán khoảng cách giữa 2 điểm này:\n",
        "# Test Case: Trong mặt phẳng Oxy, cho điểm A(1;2) và điểm B(5;3).Khoảng cách giữa 2 điểm A,B = sqrt(17)\n",
        "# Nhập vào tọa độ điểm A(x1,y1):\n",
        "x1 = float(input(\"Nhập vào tọa độ x1: \"))\n",
        "y1 = float(input(\"Nhập vào tọa độ y1: \"))\n",
        "# Nhập vào tọa độ điểm B(x2,y2)\n",
        "x2 = float(input(\"Nhập vào tọa độ x2: \"))\n",
        "y2 = float(input(\"Nhập vào tọa độ y2: \"))\n",
        "# Công thức tính khoảng cách giữa 2 điểm A,B:\n",
        "_length_of_vector = math.sqrt(pow(x2-x1,2)+pow(y2-y1,2))\n",
        "print(f'Khoảng cách giữa 2 điểm A({x1},{y1}),B({x2,y2}) là: {_length_of_vector}')"
      ],
      "execution_count": 9,
      "outputs": [
        {
          "output_type": "stream",
          "name": "stdout",
          "text": [
            "Nhập vào tọa độ x1: 1\n",
            "Nhập vào tọa độ y1: 2\n",
            "Nhập vào tọa độ x2: 5\n",
            "Nhập vào tọa độ y2: 3\n",
            "Khoảng cách giữa 2 điểm A(1.0,2.0),B((5.0, 3.0)) là: 4.123105625617661\n"
          ]
        }
      ]
    }
  ]
}
