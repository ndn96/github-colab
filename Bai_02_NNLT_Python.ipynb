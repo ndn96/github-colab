{
  "nbformat": 4,
  "nbformat_minor": 0,
  "metadata": {
    "colab": {
      "name": "Bai-02-NNLT-Python",
      "provenance": [],
      "collapsed_sections": [],
      "include_colab_link": true
    },
    "kernelspec": {
      "display_name": "Python 3",
      "name": "python3"
    }
  },
  "cells": [
    {
      "cell_type": "markdown",
      "metadata": {
        "id": "view-in-github",
        "colab_type": "text"
      },
      "source": [
        "<a href=\"https://colab.research.google.com/github/ndn96/github-colab/blob/main/Bai_02_NNLT_Python.ipynb\" target=\"_parent\"><img src=\"https://colab.research.google.com/assets/colab-badge.svg\" alt=\"Open In Colab\"/></a>"
      ]
    },
    {
      "cell_type": "code",
      "metadata": {
        "id": "1d_yCuVsG35b"
      },
      "source": [
        "#E1: Display Message:\n",
        "print(\"Hello K2-HUET\")"
      ],
      "execution_count": null,
      "outputs": []
    },
    {
      "cell_type": "code",
      "metadata": {
        "colab": {
          "base_uri": "https://localhost:8080/"
        },
        "id": "rYqln20tHA7F",
        "outputId": "6ccbbe13-4820-48f8-aa6a-ea29a705bcfe"
      },
      "source": [
        "#E2: Square of Circle:\n",
        "from math import pi\n",
        "radius = float(input(\"Enter radius: \"))\n",
        "#print(pi)\n",
        "print('Diện tích hình tròn là: ',pi*pow(radius,2))"
      ],
      "execution_count": 9,
      "outputs": [
        {
          "output_type": "stream",
          "name": "stdout",
          "text": [
            "4\n",
            "Diện tích hình tròn là:  50.26548245743669\n"
          ]
        }
      ]
    },
    {
      "cell_type": "code",
      "metadata": {
        "colab": {
          "base_uri": "https://localhost:8080/"
        },
        "id": "ASWPbln3IsAp",
        "outputId": "b7e9c70c-c582-4857-bc46-0f4b999a2e2b"
      },
      "source": [
        "#E3:\n",
        "# Gọi module time để truy cập được time.time()\n",
        "import time\n",
        "# Nhập vào dữ liệu từ bàn phím,giá trị nhận vào có thể là số thực dương:\n",
        "_radius = float(input('Nhập vào radius: '))\n",
        "# Gán giá trị cho biến PI (có thể sử dụng hằng số PI của module Math)\n",
        "PI = 3.141592653589793\n",
        "# Gán giá trị thời gian hiện tại cho _time_start\n",
        "_time_start = time.time()\n",
        "# In ra màn hình diện tích hình tròn:\n",
        "print(\"Diện tích hình tròn là: \",PI*(_radius**2))\n",
        "# Tính toán thời gian thực hiện của code:\n",
        "_time_spent = time.time() - _time_start\n",
        "# In ra thời gian thực hiện của code:\n",
        "print(\"Thời gian thực hiện là: \",_time_spent)"
      ],
      "execution_count": 16,
      "outputs": [
        {
          "output_type": "stream",
          "name": "stdout",
          "text": [
            "4\n",
            "Diện tích hình tròn là:  50.26548245743669\n",
            "Thời gian thực hiện là:  0.0006051063537597656\n"
          ]
        }
      ]
    }
  ]
}